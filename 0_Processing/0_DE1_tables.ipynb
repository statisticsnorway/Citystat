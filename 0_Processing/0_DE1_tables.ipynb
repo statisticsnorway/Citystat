{
 "cells": [
  {
   "cell_type": "markdown",
   "id": "3e13a396-3d6e-422a-9123-8d6c2c9720d3",
   "metadata": {},
   "source": [
    "## Notebook for Production of DE1 tables\n",
    "Intro"
   ]
  },
  {
   "cell_type": "markdown",
   "id": "39e51e99-a275-4bdf-aedb-a1b4c004469d",
   "metadata": {},
   "source": [
    "### Import packages & functions"
   ]
  },
  {
   "cell_type": "code",
   "execution_count": 1,
   "id": "aebc09a0-0959-4b53-923d-764ced9bcd84",
   "metadata": {
    "tags": []
   },
   "outputs": [
    {
     "name": "stderr",
     "output_type": "stream",
     "text": [
      "Warning message in system(\"timedatectl\", intern = TRUE):\n",
      "“running command 'timedatectl' had status 1”\n",
      "── \u001b[1mAttaching packages\u001b[22m ─────────────────────────────────────── tidyverse 1.3.1 ──\n",
      "\n",
      "\u001b[32m✔\u001b[39m \u001b[34mggplot2\u001b[39m 3.4.0      \u001b[32m✔\u001b[39m \u001b[34mpurrr  \u001b[39m 0.3.5 \n",
      "\u001b[32m✔\u001b[39m \u001b[34mtibble \u001b[39m 3.1.8      \u001b[32m✔\u001b[39m \u001b[34mdplyr  \u001b[39m 1.0.10\n",
      "\u001b[32m✔\u001b[39m \u001b[34mtidyr  \u001b[39m 1.2.1      \u001b[32m✔\u001b[39m \u001b[34mstringr\u001b[39m 1.5.0 \n",
      "\u001b[32m✔\u001b[39m \u001b[34mreadr  \u001b[39m 2.1.3      \u001b[32m✔\u001b[39m \u001b[34mforcats\u001b[39m 0.5.2 \n",
      "\n",
      "── \u001b[1mConflicts\u001b[22m ────────────────────────────────────────── tidyverse_conflicts() ──\n",
      "\u001b[31m✖\u001b[39m \u001b[34mdplyr\u001b[39m::\u001b[32mfilter()\u001b[39m masks \u001b[34mstats\u001b[39m::filter()\n",
      "\u001b[31m✖\u001b[39m \u001b[34mdplyr\u001b[39m::\u001b[32mlag()\u001b[39m    masks \u001b[34mstats\u001b[39m::lag()\n",
      "\n"
     ]
    }
   ],
   "source": [
    "library(haven)\n",
    "library(PxWebApiData)\n",
    "library(tidyverse)\n",
    "library(klassR)"
   ]
  },
  {
   "cell_type": "code",
   "execution_count": 2,
   "id": "19f07688-205a-416e-91a2-a60e7c027edf",
   "metadata": {},
   "outputs": [],
   "source": [
    "# define paths\n",
    "\n",
    "functions_path <- paste(getwd(), \"functions/\", sep = \"/\")\n",
    "\n",
    "# source function and correspondence\n",
    "\n",
    "source(paste(functions_path, \"functions.r\", sep = \"/\"))\n",
    "source(paste(functions_path, \"correspondence.r\", sep = \"/\"))"
   ]
  },
  {
   "cell_type": "markdown",
   "id": "ab6d8929-002d-42af-9966-70f5db3341b5",
   "metadata": {},
   "source": [
    "### Statbank data import"
   ]
  },
  {
   "cell_type": "code",
   "execution_count": 21,
   "id": "50af169f-7b3c-4e3a-b6d8-b4c74d7177b3",
   "metadata": {},
   "outputs": [],
   "source": [
    "# import data for population variables\n",
    "\n",
    "df_DE1 <- ApiData(07459,\n",
    "                  Region = c(\"0301\", \"1103\", \"4601\", \"5001\", \"3005\"),\n",
    "                  Alder = list(\"agg:FemAarigGruppering\",\n",
    "                               c(\"F00-04\", \"F05-09\", \"F10-14\",\n",
    "                                 \"F15-19\", \"F20-24\", \"F25-29\",\n",
    "                                 \"F30-34\", \"F35-39\", \"F40-44\",\n",
    "                                 \"F45-49\", \"F50-54\", \"F55-59\",\n",
    "                                 \"F60-64\", \"F65-69\", \"F70-74\",\n",
    "                                 \"F75-79\", \"F80-84\", \"F85-89\",\n",
    "                                 \"F90-94\", \"F95-99\", \"F100G5+\")),\n",
    "                  Tid = \"2022\")[[2]]"
   ]
  },
  {
   "cell_type": "code",
   "execution_count": 22,
   "id": "fa55964a-7e30-4426-84bf-8782d1020c95",
   "metadata": {
    "tags": []
   },
   "outputs": [],
   "source": [
    "# import data for median\n",
    "\n",
    "df_DE1073V <- ApiData(13536,\n",
    "                      Region = list(\"vs:Kommune\", c(\"0301\",\n",
    "                                                    \"1103\",\n",
    "                                                    \"4601\",\n",
    "                                                    \"5001\",\n",
    "                                                    \"3005\")),\n",
    "                      ContentsCode = \"Medianalder\",\n",
    "                      Tid = \"2022\")[[2]]"
   ]
  },
  {
   "cell_type": "markdown",
   "id": "8da29e62-59ef-4426-984d-c16a7e5bec59",
   "metadata": {},
   "source": [
    "### Data processing\n",
    "1. Add a column with municipality names onto the dataframe based on region code (klass = 131)\n",
    "2. Load a correspondence table between city name and city code\n",
    "3. Merge the dataframe and city correspondence "
   ]
  },
  {
   "cell_type": "code",
   "execution_count": 23,
   "id": "54c8a599-cc6e-44f0-89a0-8b143c5f2460",
   "metadata": {
    "tags": []
   },
   "outputs": [],
   "source": [
    "# import klass correspondence for city names\n",
    "\n",
    "df_DE1$name <- ApplyKlass(df_DE1$Region, klass = 131)\n",
    "df_DE1073V$name <- ApplyKlass(df_DE1073V$Region, klass = 131)\n",
    "\n",
    "city_correspondence <- GetKlass(550) %>%\n",
    "                           select(code, name)"
   ]
  },
  {
   "cell_type": "code",
   "execution_count": 24,
   "id": "5825b6bb-3c25-4697-b426-b4d81c87b1c9",
   "metadata": {},
   "outputs": [],
   "source": [
    "# merge klass correspondence with dataframe\n",
    "\n",
    "df_DE1 <- merge.data.frame(df_DE1, city_correspondence,\n",
    "                           by = \"name\")\n",
    "\n",
    "df_DE1073V <- merge.data.frame(df_DE1073V, city_correspondence,\n",
    "                               by = \"name\")"
   ]
  },
  {
   "cell_type": "markdown",
   "id": "01d00205-3d91-4cdc-a4f1-dd591c3a12ec",
   "metadata": {},
   "source": [
    "### Summary tables\n",
    "\n",
    "#### Part 1:\n",
    "This section of code produces tables that require summing over several rows of the imported age and gender separated data. In particular, \n",
    "  \n",
    "DE1001V - DE1003V: Population on the 1st of January (total, male and female);  \n",
    "DE1073V: Median population age;  \n",
    "DE1137V - DE1139V: Population on the 1st of January, 85 years or over."
   ]
  },
  {
   "cell_type": "code",
   "execution_count": 7,
   "id": "de13e62c-4aca-469b-b281-4d45a473f990",
   "metadata": {},
   "outputs": [],
   "source": [
    "# DE1001V - DE1003V\n",
    "\n",
    "DE1001V_2022 <- df_DE1 %>%\n",
    "                   group_by(code) %>%\n",
    "                   summarise(Value = sum(value))\n",
    "\n",
    "DE1002V_2022 <- sum_rows_DE1(Kjonn, \"1\")\n",
    "\n",
    "DE1003V_2022 <- sum_rows_DE1(Kjonn, \"2\")"
   ]
  },
  {
   "cell_type": "code",
   "execution_count": 8,
   "id": "fdd7c09d-8819-449f-bd2a-43e147c92141",
   "metadata": {
    "tags": []
   },
   "outputs": [],
   "source": [
    "# DE1073V\n",
    "\n",
    "DE10073_2022 <- df_DE1073V %>%\n",
    "                    select(code, value) %>%\n",
    "                    rename(Value = value)"
   ]
  },
  {
   "cell_type": "code",
   "execution_count": 9,
   "id": "96cc00ab-92d8-4ec2-9359-bc102f4d383e",
   "metadata": {},
   "outputs": [],
   "source": [
    "# DE1137V - DE1139V\n",
    "\n",
    "DE1137V_2022 <- df_DE1 %>%\n",
    "                    filter(Alder %in% c(\"F85-89\",\n",
    "                                        \"F90-94\",\n",
    "                                        \"F95-99\",\n",
    "                                        \"F100G5+\")) %>%\n",
    "                    group_by(code) %>%\n",
    "                    summarise(Value = sum(value))\n",
    "\n",
    "DE1138V_2022 <- df_DE1 %>%\n",
    "                    filter(Alder %in% c(\"F85-89\",\n",
    "                                        \"F90-94\",\n",
    "                                        \"F95-99\",\n",
    "                                        \"F100G5+\"),\n",
    "                           Kjonn == \"1\") %>%\n",
    "                    group_by(code) %>%\n",
    "                    summarise(Value = sum(value))\n",
    "\n",
    "DE1139V_2022 <- df_DE1 %>%\n",
    "                    filter(Alder %in% c(\"F85-89\",\n",
    "                                        \"F90-94\",\n",
    "                                        \"F95-99\",\n",
    "                                        \"F100G5+\"),\n",
    "                          Kjonn == '2') %>%\n",
    "                    group_by(code) %>%\n",
    "                    summarise(Value = sum(value))"
   ]
  },
  {
   "cell_type": "markdown",
   "id": "4edcddeb-b527-4279-a8af-29838c3d6d4f",
   "metadata": {},
   "source": [
    "#### Part 2.1 Totals:\n",
    "This section of code loops over the variables defined in correspondence.r and creates all 'total' tables. "
   ]
  },
  {
   "cell_type": "code",
   "execution_count": 10,
   "id": "e0fc905f-70cd-46fe-9ef0-a827c50b7379",
   "metadata": {},
   "outputs": [],
   "source": [
    "# loop over variable_names with totals and create summary tables using sum_rows\n",
    "\n",
    "for (i in seq(1, nrow(variable_correspondence), 3)) {\n",
    "    assign(\n",
    "        paste(as.character(variable_correspondence$var_name[i]),\n",
    "              \"2022\",\n",
    "              sep = \"_\"),\n",
    "        sum_rows_DE1(Alder, as.character(variable_correspondence$var_age[i])))\n",
    "}"
   ]
  },
  {
   "cell_type": "markdown",
   "id": "98e091e7-ca47-4dfe-addd-9e3ed4f84277",
   "metadata": {},
   "source": [
    "#### Part 2.2. Gender separated tables\n",
    "Note, for the gender seperated tables we do not have to sum over rows, but simply filter at the age group and gender. This is done using the function: filter_rows, and specifying *age_group* as the first variable and *gender_code* as the second."
   ]
  },
  {
   "cell_type": "code",
   "execution_count": 11,
   "id": "47cb7f58-d457-4f63-9e57-0020106fa96c",
   "metadata": {},
   "outputs": [],
   "source": [
    "# set index to be all values that are not totals\n",
    "\n",
    "index <- setdiff(1:nrow(variable_correspondence),\n",
    "                 seq(1, nrow(variable_correspondence), 3))"
   ]
  },
  {
   "cell_type": "code",
   "execution_count": 12,
   "id": "eb30a558-d710-4daa-8e27-fd4b95688187",
   "metadata": {},
   "outputs": [],
   "source": [
    "# loop over index and create summary tables using filter_rows\n",
    "\n",
    "for (i in index) {\n",
    "    assign(\n",
    "        paste(as.character(variable_correspondence$var_name[i]),\n",
    "              \"2022\",\n",
    "              sep = \"_\"),\n",
    "        filter_rows_DE1(as.character(variable_correspondence$var_age[i]),\n",
    "                    as.character(variable_correspondence$var_gender[i])))\n",
    "}"
   ]
  },
  {
   "cell_type": "markdown",
   "id": "449649ba-f74b-4dd8-a4d9-0d955f486ad5",
   "metadata": {},
   "source": [
    "### Table formatting"
   ]
  },
  {
   "cell_type": "code",
   "execution_count": 13,
   "id": "889d4193-27a7-483b-996e-37b40f0cb62b",
   "metadata": {
    "tags": []
   },
   "outputs": [],
   "source": [
    "my_list <- ls(pattern = \"^[A-Z]{2}.*_2022\")"
   ]
  },
  {
   "cell_type": "code",
   "execution_count": 14,
   "id": "0dc2b6fb-0cce-4f05-94ec-38a6db5300ca",
   "metadata": {},
   "outputs": [],
   "source": [
    "for (table in my_list) {\n",
    "    assign(paste(table), table_formatting(table))\n",
    "}"
   ]
  },
  {
   "cell_type": "code",
   "execution_count": 15,
   "id": "73f05da4-93b4-4112-bc17-0839b8358cc5",
   "metadata": {},
   "outputs": [
    {
     "data": {
      "text/html": [
       "<style>\n",
       ".list-inline {list-style: none; margin:0; padding: 0}\n",
       ".list-inline>li {display: inline-block}\n",
       ".list-inline>li:not(:last-child)::after {content: \"\\00b7\"; padding: 0 .5ex}\n",
       "</style>\n",
       "<ol class=list-inline><li>'DE1001V_2022'</li><li>'DE1002V_2022'</li><li>'DE1003V_2022'</li><li>'DE10073_2022'</li><li>'DE1040V_2022'</li><li>'DE1041V_2022'</li><li>'DE1042V_2022'</li><li>'DE1046V_2022'</li><li>'DE1047V_2022'</li><li>'DE1048V_2022'</li><li>'DE1049V_2022'</li><li>'DE1050V_2022'</li><li>'DE1051V_2022'</li><li>'DE1074V_2022'</li><li>'DE1075V_2022'</li><li>'DE1076V_2022'</li><li>'DE1077V_2022'</li><li>'DE1078V_2022'</li><li>'DE1079V_2022'</li><li>'DE1101V_2022'</li><li>'DE1102V_2022'</li><li>'DE1103V_2022'</li><li>'DE1104V_2022'</li><li>'DE1105V_2022'</li><li>'DE1106V_2022'</li><li>'DE1107V_2022'</li><li>'DE1108V_2022'</li><li>'DE1109V_2022'</li><li>'DE1110V_2022'</li><li>'DE1111V_2022'</li><li>'DE1112V_2022'</li><li>'DE1113V_2022'</li><li>'DE1114V_2022'</li><li>'DE1115V_2022'</li><li>'DE1116V_2022'</li><li>'DE1117V_2022'</li><li>'DE1118V_2022'</li><li>'DE1119V_2022'</li><li>'DE1120V_2022'</li><li>'DE1121V_2022'</li><li>'DE1122V_2022'</li><li>'DE1123V_2022'</li><li>'DE1124V_2022'</li><li>'DE1125V_2022'</li><li>'DE1126V_2022'</li><li>'DE1127V_2022'</li><li>'DE1128V_2022'</li><li>'DE1129V_2022'</li><li>'DE1130V_2022'</li><li>'DE1131V_2022'</li><li>'DE1132V_2022'</li><li>'DE1133V_2022'</li><li>'DE1134V_2022'</li><li>'DE1135V_2022'</li><li>'DE1136V_2022'</li><li>'DE1137V_2022'</li><li>'DE1138V_2022'</li><li>'DE1139V_2022'</li></ol>\n"
      ],
      "text/latex": [
       "\\begin{enumerate*}\n",
       "\\item 'DE1001V\\_2022'\n",
       "\\item 'DE1002V\\_2022'\n",
       "\\item 'DE1003V\\_2022'\n",
       "\\item 'DE10073\\_2022'\n",
       "\\item 'DE1040V\\_2022'\n",
       "\\item 'DE1041V\\_2022'\n",
       "\\item 'DE1042V\\_2022'\n",
       "\\item 'DE1046V\\_2022'\n",
       "\\item 'DE1047V\\_2022'\n",
       "\\item 'DE1048V\\_2022'\n",
       "\\item 'DE1049V\\_2022'\n",
       "\\item 'DE1050V\\_2022'\n",
       "\\item 'DE1051V\\_2022'\n",
       "\\item 'DE1074V\\_2022'\n",
       "\\item 'DE1075V\\_2022'\n",
       "\\item 'DE1076V\\_2022'\n",
       "\\item 'DE1077V\\_2022'\n",
       "\\item 'DE1078V\\_2022'\n",
       "\\item 'DE1079V\\_2022'\n",
       "\\item 'DE1101V\\_2022'\n",
       "\\item 'DE1102V\\_2022'\n",
       "\\item 'DE1103V\\_2022'\n",
       "\\item 'DE1104V\\_2022'\n",
       "\\item 'DE1105V\\_2022'\n",
       "\\item 'DE1106V\\_2022'\n",
       "\\item 'DE1107V\\_2022'\n",
       "\\item 'DE1108V\\_2022'\n",
       "\\item 'DE1109V\\_2022'\n",
       "\\item 'DE1110V\\_2022'\n",
       "\\item 'DE1111V\\_2022'\n",
       "\\item 'DE1112V\\_2022'\n",
       "\\item 'DE1113V\\_2022'\n",
       "\\item 'DE1114V\\_2022'\n",
       "\\item 'DE1115V\\_2022'\n",
       "\\item 'DE1116V\\_2022'\n",
       "\\item 'DE1117V\\_2022'\n",
       "\\item 'DE1118V\\_2022'\n",
       "\\item 'DE1119V\\_2022'\n",
       "\\item 'DE1120V\\_2022'\n",
       "\\item 'DE1121V\\_2022'\n",
       "\\item 'DE1122V\\_2022'\n",
       "\\item 'DE1123V\\_2022'\n",
       "\\item 'DE1124V\\_2022'\n",
       "\\item 'DE1125V\\_2022'\n",
       "\\item 'DE1126V\\_2022'\n",
       "\\item 'DE1127V\\_2022'\n",
       "\\item 'DE1128V\\_2022'\n",
       "\\item 'DE1129V\\_2022'\n",
       "\\item 'DE1130V\\_2022'\n",
       "\\item 'DE1131V\\_2022'\n",
       "\\item 'DE1132V\\_2022'\n",
       "\\item 'DE1133V\\_2022'\n",
       "\\item 'DE1134V\\_2022'\n",
       "\\item 'DE1135V\\_2022'\n",
       "\\item 'DE1136V\\_2022'\n",
       "\\item 'DE1137V\\_2022'\n",
       "\\item 'DE1138V\\_2022'\n",
       "\\item 'DE1139V\\_2022'\n",
       "\\end{enumerate*}\n"
      ],
      "text/markdown": [
       "1. 'DE1001V_2022'\n",
       "2. 'DE1002V_2022'\n",
       "3. 'DE1003V_2022'\n",
       "4. 'DE10073_2022'\n",
       "5. 'DE1040V_2022'\n",
       "6. 'DE1041V_2022'\n",
       "7. 'DE1042V_2022'\n",
       "8. 'DE1046V_2022'\n",
       "9. 'DE1047V_2022'\n",
       "10. 'DE1048V_2022'\n",
       "11. 'DE1049V_2022'\n",
       "12. 'DE1050V_2022'\n",
       "13. 'DE1051V_2022'\n",
       "14. 'DE1074V_2022'\n",
       "15. 'DE1075V_2022'\n",
       "16. 'DE1076V_2022'\n",
       "17. 'DE1077V_2022'\n",
       "18. 'DE1078V_2022'\n",
       "19. 'DE1079V_2022'\n",
       "20. 'DE1101V_2022'\n",
       "21. 'DE1102V_2022'\n",
       "22. 'DE1103V_2022'\n",
       "23. 'DE1104V_2022'\n",
       "24. 'DE1105V_2022'\n",
       "25. 'DE1106V_2022'\n",
       "26. 'DE1107V_2022'\n",
       "27. 'DE1108V_2022'\n",
       "28. 'DE1109V_2022'\n",
       "29. 'DE1110V_2022'\n",
       "30. 'DE1111V_2022'\n",
       "31. 'DE1112V_2022'\n",
       "32. 'DE1113V_2022'\n",
       "33. 'DE1114V_2022'\n",
       "34. 'DE1115V_2022'\n",
       "35. 'DE1116V_2022'\n",
       "36. 'DE1117V_2022'\n",
       "37. 'DE1118V_2022'\n",
       "38. 'DE1119V_2022'\n",
       "39. 'DE1120V_2022'\n",
       "40. 'DE1121V_2022'\n",
       "41. 'DE1122V_2022'\n",
       "42. 'DE1123V_2022'\n",
       "43. 'DE1124V_2022'\n",
       "44. 'DE1125V_2022'\n",
       "45. 'DE1126V_2022'\n",
       "46. 'DE1127V_2022'\n",
       "47. 'DE1128V_2022'\n",
       "48. 'DE1129V_2022'\n",
       "49. 'DE1130V_2022'\n",
       "50. 'DE1131V_2022'\n",
       "51. 'DE1132V_2022'\n",
       "52. 'DE1133V_2022'\n",
       "53. 'DE1134V_2022'\n",
       "54. 'DE1135V_2022'\n",
       "55. 'DE1136V_2022'\n",
       "56. 'DE1137V_2022'\n",
       "57. 'DE1138V_2022'\n",
       "58. 'DE1139V_2022'\n",
       "\n",
       "\n"
      ],
      "text/plain": [
       " [1] \"DE1001V_2022\" \"DE1002V_2022\" \"DE1003V_2022\" \"DE10073_2022\" \"DE1040V_2022\"\n",
       " [6] \"DE1041V_2022\" \"DE1042V_2022\" \"DE1046V_2022\" \"DE1047V_2022\" \"DE1048V_2022\"\n",
       "[11] \"DE1049V_2022\" \"DE1050V_2022\" \"DE1051V_2022\" \"DE1074V_2022\" \"DE1075V_2022\"\n",
       "[16] \"DE1076V_2022\" \"DE1077V_2022\" \"DE1078V_2022\" \"DE1079V_2022\" \"DE1101V_2022\"\n",
       "[21] \"DE1102V_2022\" \"DE1103V_2022\" \"DE1104V_2022\" \"DE1105V_2022\" \"DE1106V_2022\"\n",
       "[26] \"DE1107V_2022\" \"DE1108V_2022\" \"DE1109V_2022\" \"DE1110V_2022\" \"DE1111V_2022\"\n",
       "[31] \"DE1112V_2022\" \"DE1113V_2022\" \"DE1114V_2022\" \"DE1115V_2022\" \"DE1116V_2022\"\n",
       "[36] \"DE1117V_2022\" \"DE1118V_2022\" \"DE1119V_2022\" \"DE1120V_2022\" \"DE1121V_2022\"\n",
       "[41] \"DE1122V_2022\" \"DE1123V_2022\" \"DE1124V_2022\" \"DE1125V_2022\" \"DE1126V_2022\"\n",
       "[46] \"DE1127V_2022\" \"DE1128V_2022\" \"DE1129V_2022\" \"DE1130V_2022\" \"DE1131V_2022\"\n",
       "[51] \"DE1132V_2022\" \"DE1133V_2022\" \"DE1134V_2022\" \"DE1135V_2022\" \"DE1136V_2022\"\n",
       "[56] \"DE1137V_2022\" \"DE1138V_2022\" \"DE1139V_2022\""
      ]
     },
     "metadata": {},
     "output_type": "display_data"
    }
   ],
   "source": [
    "ls(pattern = \"^[A-Z]{2}.*_2022\")"
   ]
  },
  {
   "cell_type": "code",
   "execution_count": 20,
   "id": "1edcfbd0-58d9-4856-8ad5-3d0802876830",
   "metadata": {},
   "outputs": [
    {
     "data": {
      "text/html": [
       "<table class=\"dataframe\">\n",
       "<caption>A data.frame: 5 × 6</caption>\n",
       "<thead>\n",
       "\t<tr><th scope=col>City_code</th><th scope=col>Variable_code</th><th scope=col>Reference_year</th><th scope=col>Value</th><th scope=col>Flags</th><th scope=col>Footnote</th></tr>\n",
       "\t<tr><th scope=col>&lt;chr&gt;</th><th scope=col>&lt;chr&gt;</th><th scope=col>&lt;chr&gt;</th><th scope=col>&lt;int&gt;</th><th scope=col>&lt;chr&gt;</th><th scope=col>&lt;chr&gt;</th></tr>\n",
       "</thead>\n",
       "<tbody>\n",
       "\t<tr><td>NO001C</td><td>DE1114V</td><td>2022</td><td>24327</td><td></td><td></td></tr>\n",
       "\t<tr><td>NO002C</td><td>DE1114V</td><td>2022</td><td> 5141</td><td></td><td></td></tr>\n",
       "\t<tr><td>NO003C</td><td>DE1114V</td><td>2022</td><td> 9798</td><td></td><td></td></tr>\n",
       "\t<tr><td>NO004C</td><td>DE1114V</td><td>2022</td><td> 6888</td><td></td><td></td></tr>\n",
       "\t<tr><td>NO005C</td><td>DE1114V</td><td>2022</td><td> 3790</td><td></td><td></td></tr>\n",
       "</tbody>\n",
       "</table>\n"
      ],
      "text/latex": [
       "A data.frame: 5 × 6\n",
       "\\begin{tabular}{llllll}\n",
       " City\\_code & Variable\\_code & Reference\\_year & Value & Flags & Footnote\\\\\n",
       " <chr> & <chr> & <chr> & <int> & <chr> & <chr>\\\\\n",
       "\\hline\n",
       "\t NO001C & DE1114V & 2022 & 24327 &  & \\\\\n",
       "\t NO002C & DE1114V & 2022 &  5141 &  & \\\\\n",
       "\t NO003C & DE1114V & 2022 &  9798 &  & \\\\\n",
       "\t NO004C & DE1114V & 2022 &  6888 &  & \\\\\n",
       "\t NO005C & DE1114V & 2022 &  3790 &  & \\\\\n",
       "\\end{tabular}\n"
      ],
      "text/markdown": [
       "\n",
       "A data.frame: 5 × 6\n",
       "\n",
       "| City_code &lt;chr&gt; | Variable_code &lt;chr&gt; | Reference_year &lt;chr&gt; | Value &lt;int&gt; | Flags &lt;chr&gt; | Footnote &lt;chr&gt; |\n",
       "|---|---|---|---|---|---|\n",
       "| NO001C | DE1114V | 2022 | 24327 | <!----> | <!----> |\n",
       "| NO002C | DE1114V | 2022 |  5141 | <!----> | <!----> |\n",
       "| NO003C | DE1114V | 2022 |  9798 | <!----> | <!----> |\n",
       "| NO004C | DE1114V | 2022 |  6888 | <!----> | <!----> |\n",
       "| NO005C | DE1114V | 2022 |  3790 | <!----> | <!----> |\n",
       "\n"
      ],
      "text/plain": [
       "  City_code Variable_code Reference_year Value Flags Footnote\n",
       "1 NO001C    DE1114V       2022           24327               \n",
       "2 NO002C    DE1114V       2022            5141               \n",
       "3 NO003C    DE1114V       2022            9798               \n",
       "4 NO004C    DE1114V       2022            6888               \n",
       "5 NO005C    DE1114V       2022            3790               "
      ]
     },
     "metadata": {},
     "output_type": "display_data"
    }
   ],
   "source": [
    "DE1114V_2022"
   ]
  },
  {
   "cell_type": "markdown",
   "id": "a538a262-24bb-4199-9c9a-8fae95395cf9",
   "metadata": {},
   "source": [
    "## Export\n",
    "Add code for exporting to csv (this is the current solution for the presentation)."
   ]
  },
  {
   "cell_type": "code",
   "execution_count": 17,
   "id": "00cf54f5-a048-44e2-8219-ed9eed0d3da3",
   "metadata": {},
   "outputs": [],
   "source": [
    "# create an empty list to fill in subsequent loop\n",
    "\n",
    "DE_tables <- list()\n",
    "\n",
    "# looping over variables/dfs specified by pattern, before appending to list\n",
    "\n",
    "for (i in ls(pattern = \"^DE.*2022\")) {\n",
    "    x <- get(i)\n",
    "    DE_tables[[i]] <- x\n",
    "    }"
   ]
  },
  {
   "cell_type": "code",
   "execution_count": 18,
   "id": "e42fa306-907d-4c81-a5a9-862e479b5e4c",
   "metadata": {
    "tags": []
   },
   "outputs": [],
   "source": [
    "# rbind the tables\n",
    "\n",
    "DE_2022 <- do.call(\"rbind\", DE_tables)"
   ]
  },
  {
   "cell_type": "code",
   "execution_count": 19,
   "id": "aac22d13-9f96-44b0-88e4-a26ebbf594b9",
   "metadata": {},
   "outputs": [],
   "source": [
    "# export to Linux\n",
    "\n",
    "# write.csv(DE_2022, \"/ssb/stamme01/bediv/project/CITYSTATISTICS/DE_2022.csv\", row.names = FALSE)"
   ]
  }
 ],
 "metadata": {
  "kernelspec": {
   "display_name": "R",
   "language": "R",
   "name": "ir"
  },
  "language_info": {
   "codemirror_mode": "r",
   "file_extension": ".r",
   "mimetype": "text/x-r-source",
   "name": "R",
   "pygments_lexer": "r",
   "version": "4.2.2"
  }
 },
 "nbformat": 4,
 "nbformat_minor": 5
}
