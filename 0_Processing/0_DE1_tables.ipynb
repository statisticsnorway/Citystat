{
 "cells": [
  {
   "cell_type": "markdown",
   "id": "3e13a396-3d6e-422a-9123-8d6c2c9720d3",
   "metadata": {},
   "source": [
    "## Notebook for Production of DE1 tables\n",
    "- 58 tables from demographics data\n",
    "- Population numbers by 5-year age intervals"
   ]
  },
  {
   "cell_type": "markdown",
   "id": "39e51e99-a275-4bdf-aedb-a1b4c004469d",
   "metadata": {},
   "source": [
    "### Import packages & functions"
   ]
  },
  {
   "cell_type": "code",
   "execution_count": null,
   "id": "aebc09a0-0959-4b53-923d-764ced9bcd84",
   "metadata": {
    "tags": []
   },
   "outputs": [],
   "source": [
    "library(haven)\n",
    "library(PxWebApiData)\n",
    "library(tidyverse)\n",
    "library(klassR)"
   ]
  },
  {
   "cell_type": "code",
   "execution_count": null,
   "id": "19f07688-205a-416e-91a2-a60e7c027edf",
   "metadata": {},
   "outputs": [],
   "source": [
    "# define paths\n",
    "\n",
    "functions_path <- paste(getwd(), \"functions/\", sep = \"/\")\n",
    "\n",
    "# source function and correspondence\n",
    "\n",
    "source(paste(functions_path, \"functions.r\", sep = \"/\"))\n",
    "source(paste(functions_path, \"correspondence.r\", sep = \"/\"))"
   ]
  },
  {
   "cell_type": "markdown",
   "id": "ab6d8929-002d-42af-9966-70f5db3341b5",
   "metadata": {},
   "source": [
    "### Statbank data import"
   ]
  },
  {
   "cell_type": "code",
   "execution_count": null,
   "id": "50af169f-7b3c-4e3a-b6d8-b4c74d7177b3",
   "metadata": {},
   "outputs": [],
   "source": [
    "# import data for population variables\n",
    "\n",
    "df_DE1 <- ApiData(07459,\n",
    "                  Region = c(\"0301\", \"1103\", \"4601\", \"5001\", \"3005\"),\n",
    "                  Alder = list(\"agg:FemAarigGruppering\",\n",
    "                               c(\"F00-04\", \"F05-09\", \"F10-14\",\n",
    "                                 \"F15-19\", \"F20-24\", \"F25-29\",\n",
    "                                 \"F30-34\", \"F35-39\", \"F40-44\",\n",
    "                                 \"F45-49\", \"F50-54\", \"F55-59\",\n",
    "                                 \"F60-64\", \"F65-69\", \"F70-74\",\n",
    "                                 \"F75-79\", \"F80-84\", \"F85-89\",\n",
    "                                 \"F90-94\", \"F95-99\", \"F100G5+\")),\n",
    "                  Tid = \"2022\")[[2]]"
   ]
  },
  {
   "cell_type": "code",
   "execution_count": null,
   "id": "fa55964a-7e30-4426-84bf-8782d1020c95",
   "metadata": {
    "tags": []
   },
   "outputs": [],
   "source": [
    "# import data for median\n",
    "\n",
    "df_DE1073V <- ApiData(13536,\n",
    "                      Region = list(\"vs:Kommune\", c(\"0301\",\n",
    "                                                    \"1103\",\n",
    "                                                    \"4601\",\n",
    "                                                    \"5001\",\n",
    "                                                    \"3005\")),\n",
    "                      ContentsCode = \"Medianalder\",\n",
    "                      Tid = \"2022\")[[2]]"
   ]
  },
  {
   "cell_type": "markdown",
   "id": "8da29e62-59ef-4426-984d-c16a7e5bec59",
   "metadata": {},
   "source": [
    "### Data processing\n",
    "1. Add a column with municipality names onto the dataframe based on region code (klass = 131)\n",
    "2. Load a correspondence table between city name and city code\n",
    "3. Merge the dataframe and city correspondence "
   ]
  },
  {
   "cell_type": "code",
   "execution_count": null,
   "id": "54c8a599-cc6e-44f0-89a0-8b143c5f2460",
   "metadata": {
    "tags": []
   },
   "outputs": [],
   "source": [
    "# import klass correspondence for city names\n",
    "\n",
    "df_DE1$name <- ApplyKlass(df_DE1$Region, klass = 131)\n",
    "df_DE1073V$name <- ApplyKlass(df_DE1073V$Region, klass = 131)\n",
    "\n",
    "city_correspondence <- GetKlass(550) %>%\n",
    "                           select(code, name)"
   ]
  },
  {
   "cell_type": "code",
   "execution_count": null,
   "id": "5825b6bb-3c25-4697-b426-b4d81c87b1c9",
   "metadata": {},
   "outputs": [],
   "source": [
    "# merge klass correspondence with dataframe\n",
    "\n",
    "df_DE1 <- merge.data.frame(df_DE1, city_correspondence,\n",
    "                           by = \"name\")\n",
    "\n",
    "df_DE1073V <- merge.data.frame(df_DE1073V, city_correspondence,\n",
    "                               by = \"name\")"
   ]
  },
  {
   "cell_type": "markdown",
   "id": "01d00205-3d91-4cdc-a4f1-dd591c3a12ec",
   "metadata": {},
   "source": [
    "### Summary tables\n",
    "\n",
    "#### Part 1:\n",
    "This section of code produces tables that require summing over several rows of the imported age and gender separated data. In particular, \n",
    "  \n",
    "DE1001V - DE1003V: Population on the 1st of January (total, male and female);  \n",
    "DE1073V: Median population age;  \n",
    "DE1137V - DE1139V: Population on the 1st of January, 85 years or over."
   ]
  },
  {
   "cell_type": "code",
   "execution_count": null,
   "id": "de13e62c-4aca-469b-b281-4d45a473f990",
   "metadata": {},
   "outputs": [],
   "source": [
    "# DE1001V - DE1003V\n",
    "\n",
    "DE1001V_2022 <- df_DE1 %>%\n",
    "                   group_by(code) %>%\n",
    "                   summarise(Value = sum(value))\n",
    "\n",
    "DE1002V_2022 <- sum_rows_DE1(Kjonn, \"1\")\n",
    "\n",
    "DE1003V_2022 <- sum_rows_DE1(Kjonn, \"2\")"
   ]
  },
  {
   "cell_type": "code",
   "execution_count": null,
   "id": "fdd7c09d-8819-449f-bd2a-43e147c92141",
   "metadata": {
    "tags": []
   },
   "outputs": [],
   "source": [
    "# DE1073V\n",
    "\n",
    "DE10073_2022 <- df_DE1073V %>%\n",
    "                    select(code, value) %>%\n",
    "                    rename(Value = value)"
   ]
  },
  {
   "cell_type": "code",
   "execution_count": null,
   "id": "96cc00ab-92d8-4ec2-9359-bc102f4d383e",
   "metadata": {},
   "outputs": [],
   "source": [
    "# DE1137V - DE1139V\n",
    "\n",
    "DE1137V_2022 <- df_DE1 %>%\n",
    "                    filter(Alder %in% c(\"F85-89\",\n",
    "                                        \"F90-94\",\n",
    "                                        \"F95-99\",\n",
    "                                        \"F100G5+\")) %>%\n",
    "                    group_by(code) %>%\n",
    "                    summarise(Value = sum(value))\n",
    "\n",
    "DE1138V_2022 <- df_DE1 %>%\n",
    "                    filter(Alder %in% c(\"F85-89\",\n",
    "                                        \"F90-94\",\n",
    "                                        \"F95-99\",\n",
    "                                        \"F100G5+\"),\n",
    "                           Kjonn == \"1\") %>%\n",
    "                    group_by(code) %>%\n",
    "                    summarise(Value = sum(value))\n",
    "\n",
    "DE1139V_2022 <- df_DE1 %>%\n",
    "                    filter(Alder %in% c(\"F85-89\",\n",
    "                                        \"F90-94\",\n",
    "                                        \"F95-99\",\n",
    "                                        \"F100G5+\"),\n",
    "                          Kjonn == '2') %>%\n",
    "                    group_by(code) %>%\n",
    "                    summarise(Value = sum(value))"
   ]
  },
  {
   "cell_type": "markdown",
   "id": "4edcddeb-b527-4279-a8af-29838c3d6d4f",
   "metadata": {},
   "source": [
    "#### Part 2.1 Totals:\n",
    "This section of code loops over the variables defined in correspondence.r and creates all 'total' tables. "
   ]
  },
  {
   "cell_type": "code",
   "execution_count": null,
   "id": "e0fc905f-70cd-46fe-9ef0-a827c50b7379",
   "metadata": {},
   "outputs": [],
   "source": [
    "# loop over variable_names with totals and create summary tables using sum_rows\n",
    "\n",
    "for (i in seq(1, nrow(variable_correspondence), 3)) {\n",
    "    assign(\n",
    "        paste(as.character(variable_correspondence$var_name[i]),\n",
    "              \"2022\",\n",
    "              sep = \"_\"),\n",
    "        sum_rows_DE1(Alder, as.character(variable_correspondence$var_age[i])))\n",
    "}"
   ]
  },
  {
   "cell_type": "markdown",
   "id": "98e091e7-ca47-4dfe-addd-9e3ed4f84277",
   "metadata": {},
   "source": [
    "#### Part 2.2. Gender separated tables\n",
    "Note, for the gender seperated tables we do not have to sum over rows, but simply filter at the age group and gender. This is done using the function: filter_rows, and specifying *age_group* as the first variable and *gender_code* as the second."
   ]
  },
  {
   "cell_type": "code",
   "execution_count": null,
   "id": "47cb7f58-d457-4f63-9e57-0020106fa96c",
   "metadata": {},
   "outputs": [],
   "source": [
    "# set index to be all values that are not totals\n",
    "\n",
    "index <- setdiff(1:nrow(variable_correspondence),\n",
    "                 seq(1, nrow(variable_correspondence), 3))"
   ]
  },
  {
   "cell_type": "code",
   "execution_count": null,
   "id": "eb30a558-d710-4daa-8e27-fd4b95688187",
   "metadata": {},
   "outputs": [],
   "source": [
    "# loop over index and create summary tables using filter_rows\n",
    "\n",
    "for (i in index) {\n",
    "    assign(\n",
    "        paste(as.character(variable_correspondence$var_name[i]),\n",
    "              \"2022\",\n",
    "              sep = \"_\"),\n",
    "        filter_rows_DE1(as.character(variable_correspondence$var_age[i]),\n",
    "                    as.character(variable_correspondence$var_gender[i])))\n",
    "}"
   ]
  },
  {
   "cell_type": "markdown",
   "id": "449649ba-f74b-4dd8-a4d9-0d955f486ad5",
   "metadata": {},
   "source": [
    "### Table formatting"
   ]
  },
  {
   "cell_type": "code",
   "execution_count": null,
   "id": "889d4193-27a7-483b-996e-37b40f0cb62b",
   "metadata": {
    "tags": []
   },
   "outputs": [],
   "source": [
    "my_list <- ls(pattern = \"^[A-Z]{2}.*_2022\")"
   ]
  },
  {
   "cell_type": "code",
   "execution_count": null,
   "id": "0dc2b6fb-0cce-4f05-94ec-38a6db5300ca",
   "metadata": {},
   "outputs": [],
   "source": [
    "for (table in my_list) {\n",
    "    assign(paste(table), table_formatting(table))\n",
    "}"
   ]
  },
  {
   "cell_type": "code",
   "execution_count": null,
   "id": "73f05da4-93b4-4112-bc17-0839b8358cc5",
   "metadata": {},
   "outputs": [],
   "source": [
    "ls(pattern = \"^[A-Z]{2}.*_2022\")"
   ]
  },
  {
   "cell_type": "markdown",
   "id": "a538a262-24bb-4199-9c9a-8fae95395cf9",
   "metadata": {},
   "source": [
    "## Export\n",
    "Add code for exporting to csv (this is the current solution for the presentation)."
   ]
  },
  {
   "cell_type": "code",
   "execution_count": null,
   "id": "00cf54f5-a048-44e2-8219-ed9eed0d3da3",
   "metadata": {},
   "outputs": [],
   "source": [
    "# create an empty list to fill in subsequent loop\n",
    "\n",
    "DE_tables <- list()\n",
    "\n",
    "# looping over variables/dfs specified by pattern, before appending to list\n",
    "\n",
    "for (i in ls(pattern = \"^DE.*2022\")) {\n",
    "    x <- get(i)\n",
    "    DE_tables[[i]] <- x\n",
    "    }"
   ]
  },
  {
   "cell_type": "code",
   "execution_count": null,
   "id": "e42fa306-907d-4c81-a5a9-862e479b5e4c",
   "metadata": {
    "tags": []
   },
   "outputs": [],
   "source": [
    "# rbind the tables\n",
    "\n",
    "DE_2022 <- do.call(\"rbind\", DE_tables)"
   ]
  },
  {
   "cell_type": "code",
   "execution_count": null,
   "id": "aac22d13-9f96-44b0-88e4-a26ebbf594b9",
   "metadata": {},
   "outputs": [],
   "source": [
    "# export to Linux\n",
    "\n",
    "# write.csv(DE_2022, \"/ssb/stamme01/bediv/project/CITYSTATISTICS/DE_2022.csv\", row.names = FALSE)"
   ]
  }
 ],
 "metadata": {
  "language_info": {
   "codemirror_mode": "r",
   "file_extension": ".r",
   "mimetype": "text/x-r-source",
   "name": "R"
  }
 },
 "nbformat": 4,
 "nbformat_minor": 5
}
