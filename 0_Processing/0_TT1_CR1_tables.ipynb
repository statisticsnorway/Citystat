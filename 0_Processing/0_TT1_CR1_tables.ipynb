{
 "cells": [
  {
   "cell_type": "markdown",
   "id": "0490c99a-d534-4bd0-a9a9-d52aed66956d",
   "metadata": {
    "tags": []
   },
   "source": [
    "## Data Processing\n",
    "This notebook loads all the tables created in the .r scripts under the R_scripts folder, then appends these tables and exports as csv"
   ]
  },
  {
   "cell_type": "markdown",
   "id": "edc1fd72-138a-43b0-adb6-9f099c799287",
   "metadata": {},
   "source": [
    "### Loading data"
   ]
  },
  {
   "cell_type": "code",
   "execution_count": 1,
   "id": "7fd9777f-5840-4d49-9eac-776ff1769d5a",
   "metadata": {
    "tags": []
   },
   "outputs": [],
   "source": [
    "# create a list of the scripts in R_scripts and source the tables\n",
    "\n",
    "path <- \"/ssb/bruker/grd/Citystat/R_scripts\"\n",
    "scripts <- list.files(path, pattern = \"*.r\")"
   ]
  },
  {
   "cell_type": "code",
   "execution_count": null,
   "id": "5dd3a559-818f-4fbb-92d7-1d366c5a2b20",
   "metadata": {
    "tags": []
   },
   "outputs": [
    {
     "name": "stderr",
     "output_type": "stream",
     "text": [
      "Warning message in system(\"timedatectl\", intern = TRUE):\n",
      "“running command 'timedatectl' had status 1”\n"
     ]
    }
   ],
   "source": [
    "for (i in scripts) {\n",
    "    x <- paste(\"/ssb/bruker/grd/Citystat/R_scripts\", i, sep = \"/\")\n",
    "    suppressMessages(source(x))\n",
    "}"
   ]
  },
  {
   "cell_type": "code",
   "execution_count": 4,
   "id": "fac0b3ea-5bf8-4e3f-80e3-f560a8673f0d",
   "metadata": {},
   "outputs": [
    {
     "ename": "ERROR",
     "evalue": "Error in eval(expr, envir, enclos): object 'TT1057V_2021' not found\n",
     "output_type": "error",
     "traceback": [
      "Error in eval(expr, envir, enclos): object 'TT1057V_2021' not found\nTraceback:\n"
     ]
    }
   ],
   "source": [
    "TT1057V_2021"
   ]
  },
  {
   "cell_type": "code",
   "execution_count": null,
   "id": "1ba31833-6814-4ccf-9967-5d96a5acdc0f",
   "metadata": {},
   "outputs": [],
   "source": [
    "# check the tables which have been imported\n",
    "\n",
    "ls(pattern = \"^TT.*_2021\")\n",
    "ls(pattern = \"^CR.*_2021\")"
   ]
  },
  {
   "cell_type": "markdown",
   "id": "198330ef-1dcd-4d62-a371-9ac699b55e9c",
   "metadata": {},
   "source": [
    "### Transportation (^TT.*_2021)"
   ]
  },
  {
   "cell_type": "code",
   "execution_count": null,
   "id": "9dffbbb2-09a0-452a-8f0d-01bbd53acb81",
   "metadata": {},
   "outputs": [],
   "source": [
    "# create an empty list to fill in subsequent loop\n",
    "\n",
    "TT_tables <- list()\n",
    "\n",
    "# looping over variables/dfs specified by pattern, before appending to list\n",
    "\n",
    "for (i in ls(pattern = \"^TT.*2021\")) {\n",
    "    x <- get(i)\n",
    "    TT_tables[[i]] <- x\n",
    "    }"
   ]
  },
  {
   "cell_type": "code",
   "execution_count": null,
   "id": "81a90712-bc1c-497a-9046-2f299e513022",
   "metadata": {},
   "outputs": [],
   "source": [
    "# rbind the tables\n",
    "\n",
    "TT_2021 <- do.call(\"rbind\", TT_tables)\n",
    "TT_2021"
   ]
  },
  {
   "cell_type": "code",
   "execution_count": null,
   "id": "0dd61e7d-4da8-465d-a5a4-2f9084e80b7a",
   "metadata": {},
   "outputs": [],
   "source": [
    "# export to Linux\n",
    "\n",
    "# write.csv(TT_2021, \"/ssb/stamme01/bediv/project/CITYSTATISTICS/TT_2021.csv\", row.names = FALSE)"
   ]
  },
  {
   "cell_type": "markdown",
   "id": "b66365a3-44d3-4df1-9c20-a6f193438061",
   "metadata": {},
   "source": [
    "### Culture and recreation (^CR.*_2021)"
   ]
  },
  {
   "cell_type": "code",
   "execution_count": null,
   "id": "702660e9-fb1c-4eaf-9ef2-7ce527bb3eb7",
   "metadata": {},
   "outputs": [],
   "source": [
    "ls(pattern = \"^CR.*2021\")"
   ]
  },
  {
   "cell_type": "code",
   "execution_count": null,
   "id": "81824b16-073d-4ec4-9098-b9a7269e53c6",
   "metadata": {},
   "outputs": [],
   "source": [
    "CR_tables <- list()\n",
    "\n",
    "for (i in ls(pattern = \"^CR.*2021\")) {\n",
    "    x <- get(i)\n",
    "    CR_tables[[i]] <- x\n",
    "    }"
   ]
  },
  {
   "cell_type": "code",
   "execution_count": null,
   "id": "2e09e093-6db1-4ef4-8342-6f3e544ed407",
   "metadata": {},
   "outputs": [],
   "source": [
    "CR_2021 <- do.call(\"rbind\", CR_tables)\n",
    "CR_2021"
   ]
  },
  {
   "cell_type": "code",
   "execution_count": null,
   "id": "2ac7f35f-8c0a-47c0-af07-9bdd8a8cd686",
   "metadata": {},
   "outputs": [],
   "source": [
    "# write.csv(CR_2021, \"/ssb/stamme01/bediv/project/CITYSTATISTICS/CR_2021.csv\", row.names = FALSE)"
   ]
  }
 ],
 "metadata": {
  "kernelspec": {
   "display_name": "R",
   "language": "R",
   "name": "ir"
  },
  "language_info": {
   "codemirror_mode": "r",
   "file_extension": ".r",
   "mimetype": "text/x-r-source",
   "name": "R",
   "pygments_lexer": "r",
   "version": "4.2.2"
  }
 },
 "nbformat": 4,
 "nbformat_minor": 5
}
