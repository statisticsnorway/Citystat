{
 "cells": [
  {
   "cell_type": "markdown",
   "id": "0490c99a-d534-4bd0-a9a9-d52aed66956d",
   "metadata": {},
   "source": [
    "### Data Processing\n",
    "This notebook loads all the tables created in the .r scripts under the R_scripts folder, then appends these tables and exports as csv"
   ]
  },
  {
   "cell_type": "code",
   "execution_count": null,
   "id": "80936aab-5328-4da4-a32e-81090fe407bf",
   "metadata": {
    "tags": []
   },
   "outputs": [],
   "source": [
    "# create a list of the scripts in R_scripts\n",
    "\n",
    "scripts <- list.files(path = \"/ssb/bruker/grd/Citystat/R_scripts\",\n",
    "                      pattern = \"*.r\")\n",
    "scripts"
   ]
  },
  {
   "cell_type": "code",
   "execution_count": null,
   "id": "3e9b9fb9-14d3-49d5-81fe-123b73cfaed4",
   "metadata": {},
   "outputs": [],
   "source": [
    "# source the tables created in .r files\n",
    "\n",
    "for (i in scripts) {\n",
    "    x <- paste(\"/ssb/bruker/grd/Grants_Aid/R_scripts\", i, sep = \"/\")\n",
    "    source(x)\n",
    "    }"
   ]
  },
  {
   "cell_type": "code",
   "execution_count": null,
   "id": "9dffbbb2-09a0-452a-8f0d-01bbd53acb81",
   "metadata": {},
   "outputs": [],
   "source": [
    "# create an empty list to fill in subsequent loop\n",
    "\n",
    "TT_tables <- list()\n",
    "\n",
    "# looping over variables/dfs with specified by pattern, before appending to list\n",
    "\n",
    "for (i in ls(pattern = \"^TT.*2021\")) {\n",
    "    x <- get(i)\n",
    "    TT_tables[[i]] <- x\n",
    "    }"
   ]
  },
  {
   "cell_type": "code",
   "execution_count": null,
   "id": "d91f9aca-cb96-4552-ae33-212603af3535",
   "metadata": {},
   "outputs": [],
   "source": [
    "# check what this list looks like\n",
    "\n",
    "TT_tables"
   ]
  },
  {
   "cell_type": "code",
   "execution_count": null,
   "id": "81a90712-bc1c-497a-9046-2f299e513022",
   "metadata": {},
   "outputs": [],
   "source": [
    "TT_2021 <- do.call(\"rbind\", TT_tables)"
   ]
  },
  {
   "cell_type": "code",
   "execution_count": null,
   "id": "0dd61e7d-4da8-465d-a5a4-2f9084e80b7a",
   "metadata": {},
   "outputs": [],
   "source": [
    "write.csv(TT_2021, \"/ssb/stamme01/bediv/project/CITYSTATISTICS/TT_2021.csv\", row.names = FALSE)"
   ]
  },
  {
   "cell_type": "code",
   "execution_count": null,
   "id": "702660e9-fb1c-4eaf-9ef2-7ce527bb3eb7",
   "metadata": {},
   "outputs": [],
   "source": [
    "ls(pattern = \"^CR.*2021\")"
   ]
  },
  {
   "cell_type": "code",
   "execution_count": null,
   "id": "81824b16-073d-4ec4-9098-b9a7269e53c6",
   "metadata": {},
   "outputs": [],
   "source": [
    "CR_tables <- list()\n",
    "\n",
    "for (i in ls(pattern = \"^CR.*2021\")) {\n",
    "    x <- get(i)\n",
    "    CR_tables[[i]] <- x\n",
    "    CR_2021 <- do.call(\"rbind\", CR_tables)\n",
    "    }"
   ]
  },
  {
   "cell_type": "code",
   "execution_count": null,
   "id": "2e09e093-6db1-4ef4-8342-6f3e544ed407",
   "metadata": {},
   "outputs": [],
   "source": [
    "CR_2021"
   ]
  },
  {
   "cell_type": "code",
   "execution_count": null,
   "id": "2ac7f35f-8c0a-47c0-af07-9bdd8a8cd686",
   "metadata": {},
   "outputs": [],
   "source": [
    "write.csv(CR_2021, \"/ssb/stamme01/bediv/project/CITYSTATISTICS/CR_2021.csv\", row.names = FALSE)"
   ]
  }
 ],
 "metadata": {
  "language_info": {
   "codemirror_mode": "r",
   "file_extension": ".r",
   "mimetype": "text/x-r-source",
   "name": "R"
  }
 },
 "nbformat": 4,
 "nbformat_minor": 5
}
