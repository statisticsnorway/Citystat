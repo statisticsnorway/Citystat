{
 "cells": [
  {
   "cell_type": "markdown",
   "id": "60a10098-5fb7-413b-80b1-e0b88796179b",
   "metadata": {},
   "source": [
    "## Master Export Notebook\n",
    "This notebook imports the csv's created from 0_export_xx notebooks, then appends the tables into a single table and exports as a csv."
   ]
  },
  {
   "cell_type": "code",
   "execution_count": null,
   "id": "7b84db60-5415-4e23-a601-35128912bf0b",
   "metadata": {},
   "outputs": [],
   "source": [
    "# load packages\n",
    "\n",
    "suppressPackageStartupMessages(library(tidyverse))"
   ]
  },
  {
   "cell_type": "code",
   "execution_count": null,
   "id": "3d0f19d8-e13e-4d4a-ad96-a7116b7e407d",
   "metadata": {},
   "outputs": [],
   "source": [
    "# imports\n",
    "\n",
    "path <- \"/ssb/stamme01/bediv/project/CITYSTATISTICS/\"\n",
    "\n",
    "csv_files <- list.files(path, pattern = \"^[A-Z]{2}.*csv\")\n",
    "csv_files\n",
    "\n",
    "# pattern says: match all cases starting with two capital letters and ending in csv"
   ]
  },
  {
   "cell_type": "code",
   "execution_count": null,
   "id": "d10ad380-a6f3-4f98-9b5d-6f7dbf7152ee",
   "metadata": {
    "tags": []
   },
   "outputs": [],
   "source": [
    "Grants_table <- list()\n",
    "\n",
    "for (i in csv_files) {\n",
    "    x <- read_csv(paste(path, i, sep = \"\"), show_col_types = FALSE)\n",
    "    Grants_table[[i]] <- x\n",
    "    }"
   ]
  },
  {
   "cell_type": "code",
   "execution_count": null,
   "id": "2f69bf9c-6430-4300-9a58-4e622d9deb48",
   "metadata": {
    "tags": []
   },
   "outputs": [],
   "source": [
    "Grants_export <- do.call(\"rbind\", Grants_table)"
   ]
  },
  {
   "cell_type": "code",
   "execution_count": null,
   "id": "4ec0b419-8447-4174-a4ac-3309a6da3a99",
   "metadata": {},
   "outputs": [],
   "source": [
    "Grants_export[is.na(Grants_export)] <- \"\""
   ]
  },
  {
   "cell_type": "code",
   "execution_count": null,
   "id": "0a992578-276d-4275-b3dd-2de088bc8d65",
   "metadata": {},
   "outputs": [],
   "source": [
    "Grants_export"
   ]
  },
  {
   "cell_type": "markdown",
   "id": "98114ffa-dfda-4b72-a0b2-625b22dec28d",
   "metadata": {},
   "source": [
    "### Export"
   ]
  },
  {
   "cell_type": "code",
   "execution_count": null,
   "id": "6e6d3fa3-90cb-4c0c-9dba-0353285a761a",
   "metadata": {},
   "outputs": [],
   "source": [
    "# write.csv(Grants_export, paste(path, \"Grants_edamis_2021.csv\", sep = \"\"), row.names = FALSE)"
   ]
  }
 ],
 "metadata": {
  "language_info": {
   "codemirror_mode": "r",
   "file_extension": ".r",
   "mimetype": "text/x-r-source",
   "name": "R"
  }
 },
 "nbformat": 4,
 "nbformat_minor": 5
}
