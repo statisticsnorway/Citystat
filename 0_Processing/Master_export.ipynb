{
 "cells": [
  {
   "cell_type": "markdown",
   "id": "60a10098-5fb7-413b-80b1-e0b88796179b",
   "metadata": {},
   "source": [
    "## Master Export Notebook\n",
    "This notebook imports the csv's created from 0_XX_tables.ipynb notebooks, then appends the tables into a single table and exports as a csv."
   ]
  },
  {
   "cell_type": "code",
   "execution_count": 3,
   "id": "7b84db60-5415-4e23-a601-35128912bf0b",
   "metadata": {},
   "outputs": [
    {
     "name": "stderr",
     "output_type": "stream",
     "text": [
      "Warning message in system(\"timedatectl\", intern = TRUE):\n",
      "“running command 'timedatectl' had status 1”\n"
     ]
    }
   ],
   "source": [
    "# load packages\n",
    "\n",
    "suppressPackageStartupMessages(library(tidyverse))"
   ]
  },
  {
   "cell_type": "code",
   "execution_count": 1,
   "id": "3d0f19d8-e13e-4d4a-ad96-a7116b7e407d",
   "metadata": {},
   "outputs": [
    {
     "data": {
      "text/html": [
       "<style>\n",
       ".list-inline {list-style: none; margin:0; padding: 0}\n",
       ".list-inline>li {display: inline-block}\n",
       ".list-inline>li:not(:last-child)::after {content: \"\\00b7\"; padding: 0 .5ex}\n",
       "</style>\n",
       "<ol class=list-inline><li>'CR_2021.csv'</li><li>'DE2_2022.csv'</li><li>'DE3_2022.csv'</li><li>'DE4_2022.csv'</li><li>'EC_2021.csv'</li><li>'SA1_2022.csv'</li><li>'SA2_2021.csv'</li><li>'TE1001V_2021.csv'</li><li>'TE1026V_TE1027V_TE1028V_2021.csv'</li><li>'TE2025V_TE2028V_TE2031V_2021.csv'</li><li>'TT_2021.csv'</li></ol>\n"
      ],
      "text/latex": [
       "\\begin{enumerate*}\n",
       "\\item 'CR\\_2021.csv'\n",
       "\\item 'DE2\\_2022.csv'\n",
       "\\item 'DE3\\_2022.csv'\n",
       "\\item 'DE4\\_2022.csv'\n",
       "\\item 'EC\\_2021.csv'\n",
       "\\item 'SA1\\_2022.csv'\n",
       "\\item 'SA2\\_2021.csv'\n",
       "\\item 'TE1001V\\_2021.csv'\n",
       "\\item 'TE1026V\\_TE1027V\\_TE1028V\\_2021.csv'\n",
       "\\item 'TE2025V\\_TE2028V\\_TE2031V\\_2021.csv'\n",
       "\\item 'TT\\_2021.csv'\n",
       "\\end{enumerate*}\n"
      ],
      "text/markdown": [
       "1. 'CR_2021.csv'\n",
       "2. 'DE2_2022.csv'\n",
       "3. 'DE3_2022.csv'\n",
       "4. 'DE4_2022.csv'\n",
       "5. 'EC_2021.csv'\n",
       "6. 'SA1_2022.csv'\n",
       "7. 'SA2_2021.csv'\n",
       "8. 'TE1001V_2021.csv'\n",
       "9. 'TE1026V_TE1027V_TE1028V_2021.csv'\n",
       "10. 'TE2025V_TE2028V_TE2031V_2021.csv'\n",
       "11. 'TT_2021.csv'\n",
       "\n",
       "\n"
      ],
      "text/plain": [
       " [1] \"CR_2021.csv\"                      \"DE2_2022.csv\"                    \n",
       " [3] \"DE3_2022.csv\"                     \"DE4_2022.csv\"                    \n",
       " [5] \"EC_2021.csv\"                      \"SA1_2022.csv\"                    \n",
       " [7] \"SA2_2021.csv\"                     \"TE1001V_2021.csv\"                \n",
       " [9] \"TE1026V_TE1027V_TE1028V_2021.csv\" \"TE2025V_TE2028V_TE2031V_2021.csv\"\n",
       "[11] \"TT_2021.csv\"                     "
      ]
     },
     "metadata": {},
     "output_type": "display_data"
    }
   ],
   "source": [
    "# imports\n",
    "\n",
    "path <- \"/ssb/stamme01/bediv/project/CITYSTATISTICS/\"\n",
    "\n",
    "csv_files <- list.files(path, pattern = \"^[A-Z]{2}.*csv\")\n",
    "csv_files\n",
    "\n",
    "# pattern says: match all cases starting with two capital letters and ending in csv"
   ]
  },
  {
   "cell_type": "code",
   "execution_count": 4,
   "id": "d10ad380-a6f3-4f98-9b5d-6f7dbf7152ee",
   "metadata": {
    "tags": []
   },
   "outputs": [],
   "source": [
    "Grants_table <- list()\n",
    "\n",
    "for (i in csv_files) {\n",
    "    x <- read_csv(paste(path, i, sep = \"\"), show_col_types = FALSE)\n",
    "    Grants_table[[i]] <- x\n",
    "    }"
   ]
  },
  {
   "cell_type": "code",
   "execution_count": 5,
   "id": "2f69bf9c-6430-4300-9a58-4e622d9deb48",
   "metadata": {
    "tags": []
   },
   "outputs": [],
   "source": [
    "Grants_export <- do.call(\"rbind\", Grants_table)"
   ]
  },
  {
   "cell_type": "code",
   "execution_count": 6,
   "id": "4ec0b419-8447-4174-a4ac-3309a6da3a99",
   "metadata": {},
   "outputs": [],
   "source": [
    "Grants_export[is.na(Grants_export)] <- \"\""
   ]
  },
  {
   "cell_type": "markdown",
   "id": "98114ffa-dfda-4b72-a0b2-625b22dec28d",
   "metadata": {},
   "source": [
    "### Export"
   ]
  },
  {
   "cell_type": "code",
   "execution_count": null,
   "id": "6e6d3fa3-90cb-4c0c-9dba-0353285a761a",
   "metadata": {},
   "outputs": [],
   "source": [
    "#write.csv(Grants_export,\n",
    "#          paste(path, \"Grants_edamis_2021.csv\", sep = \"\"),\n",
    "#          row.names = FALSE,\n",
    "#          quote = FALSE)"
   ]
  }
 ],
 "metadata": {
  "kernelspec": {
   "display_name": "R",
   "language": "R",
   "name": "ir"
  },
  "language_info": {
   "codemirror_mode": "r",
   "file_extension": ".r",
   "mimetype": "text/x-r-source",
   "name": "R",
   "pygments_lexer": "r",
   "version": "4.2.2"
  }
 },
 "nbformat": 4,
 "nbformat_minor": 5
}
