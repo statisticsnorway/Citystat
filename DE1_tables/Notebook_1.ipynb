{
 "cells": [
  {
   "cell_type": "markdown",
   "id": "3e13a396-3d6e-422a-9123-8d6c2c9720d3",
   "metadata": {},
   "source": [
    "### Notebook for workings on the DE1 tables"
   ]
  },
  {
   "cell_type": "code",
   "execution_count": null,
   "id": "8f787e4f-a7b2-4b2c-b255-f94d6c530654",
   "metadata": {
    "tags": []
   },
   "outputs": [],
   "source": [
    "library(haven)\n",
    "library(PxWebApiData)\n",
    "suppressPackageStartupMessages(library(tidyverse))\n",
    "library(klassR)\n",
    "\n",
    "library(httr)\n",
    "library(jsonlite)\n",
    "\n",
    "library(glue)"
   ]
  },
  {
   "cell_type": "code",
   "execution_count": null,
   "id": "756a5805-f96c-43e6-b660-a9315ada92a0",
   "metadata": {},
   "outputs": [],
   "source": [
    "source(\"Functions.r\")"
   ]
  },
  {
   "cell_type": "markdown",
   "id": "ab6d8929-002d-42af-9966-70f5db3341b5",
   "metadata": {},
   "source": [
    "#### Statbank approach:"
   ]
  },
  {
   "cell_type": "code",
   "execution_count": null,
   "id": "50af169f-7b3c-4e3a-b6d8-b4c74d7177b3",
   "metadata": {},
   "outputs": [],
   "source": [
    "# import data\n",
    "\n",
    "df_DE1 <- ApiData(07459,\n",
    "              Alder = list(\"agg:FemAarigGruppering\",\n",
    "                           c(\"F00-04\", \"F05-09\", \"F10-14\",\n",
    "                             \"F15-19\", \"F20-24\", \"F25-29\",\n",
    "                             \"F30-34\", \"F35-39\", \"F40-44\",\n",
    "                             \"F45-49\", \"F50-54\", \"F55-59\",\n",
    "                             \"F60-64\", \"F65-69\", \"F70-74\",\n",
    "                             \"F75-79\", \"F80-84\", \"F85-89\",\n",
    "                             \"F90-94\", \"F95-99\", \"F100G5+\")),\n",
    "              Region = c(\"0301\", \"1103\", \"4601\", \"5001\"),\n",
    "              Tid = \"2022\")[[2]]"
   ]
  },
  {
   "cell_type": "code",
   "execution_count": null,
   "id": "54c8a599-cc6e-44f0-89a0-8b143c5f2460",
   "metadata": {
    "tags": []
   },
   "outputs": [],
   "source": [
    "# import klass correspondence for city names\n",
    "\n",
    "df_DE1$navn <- ApplyKlass(df_DE1$Region, klass = 131)\n",
    "\n",
    "city_correspondence <- GetKlass(550) %>%\n",
    "                    select(code, name)"
   ]
  },
  {
   "cell_type": "code",
   "execution_count": null,
   "id": "5825b6bb-3c25-4697-b426-b4d81c87b1c9",
   "metadata": {},
   "outputs": [],
   "source": [
    "# merge klass correspondence with dataframe\n",
    "\n",
    "df_DE1 <- merge.data.frame(df_DE1, city_correspondence,\n",
    "                           by.x = \"navn\",\n",
    "                           by.y = \"name\")"
   ]
  },
  {
   "cell_type": "code",
   "execution_count": null,
   "id": "fa55964a-7e30-4426-84bf-8782d1020c95",
   "metadata": {
    "jupyter": {
     "outputs_hidden": true
    },
    "tags": []
   },
   "outputs": [],
   "source": [
    "df_DE1"
   ]
  },
  {
   "cell_type": "markdown",
   "id": "01d00205-3d91-4cdc-a4f1-dd591c3a12ec",
   "metadata": {},
   "source": [
    "### Filter + sum rows (TOTAL TABELLER)"
   ]
  },
  {
   "cell_type": "code",
   "execution_count": null,
   "id": "1735eb40-aa74-4fe0-b38e-f0ace1a7ce19",
   "metadata": {},
   "outputs": [],
   "source": [
    "DE1040V_2022 <- sum_rows(Alder, \"F00-04\")\n",
    "DE1040V_2022"
   ]
  },
  {
   "cell_type": "markdown",
   "id": "98e091e7-ca47-4dfe-addd-9e3ed4f84277",
   "metadata": {},
   "source": [
    "### Filter (KJØNNSFORDELTE TABELLER)"
   ]
  },
  {
   "cell_type": "code",
   "execution_count": null,
   "id": "eb259141-2c5c-43b5-80aa-3ea6a46d8888",
   "metadata": {},
   "outputs": [],
   "source": [
    "df_DE1 %>%\n",
    "    filter(df_DE1[\"Alder\"] == \"F00-04\",\n",
    "           df_DE1[\"Kjonn\"] == \"1\") %>%\n",
    "    select(code, value) %>%\n",
    "    rename(Value = value)"
   ]
  },
  {
   "cell_type": "code",
   "execution_count": null,
   "id": "eb30a558-d710-4daa-8e27-fd4b95688187",
   "metadata": {},
   "outputs": [],
   "source": [
    "sum_rows_2(\"F05-09\", \"1\")"
   ]
  },
  {
   "cell_type": "code",
   "execution_count": null,
   "id": "a5e389fa-b54d-408a-80a7-1568e97ff4ee",
   "metadata": {
    "tags": []
   },
   "outputs": [],
   "source": [
    "DE1074V_2022 <- df_DE1 %>%\n",
    "                    filter(Alder == \"F05-09\") %>%\n",
    "                    group_by(code) %>%\n",
    "                    summarise(Value = sum(value))"
   ]
  },
  {
   "cell_type": "code",
   "execution_count": null,
   "id": "48754264-bf15-4452-8f3b-3cc93ccf9072",
   "metadata": {},
   "outputs": [],
   "source": [
    "# sum rows\n",
    "\n",
    "DE1001V_2022 <- df_DE1 %>%\n",
    "                   group_by(code) %>%\n",
    "                   summarise(Value = sum(value))"
   ]
  },
  {
   "cell_type": "code",
   "execution_count": null,
   "id": "b4ecdc51-1b48-4527-9a81-bbe487650311",
   "metadata": {},
   "outputs": [],
   "source": [
    "DE1001V_2022"
   ]
  },
  {
   "cell_type": "code",
   "execution_count": null,
   "id": "ca1e3a3a-cfd2-4a70-9fdd-e49ab88ab192",
   "metadata": {},
   "outputs": [],
   "source": [
    "table_formatting(DE1001V_2022)"
   ]
  },
  {
   "cell_type": "code",
   "execution_count": null,
   "id": "8154ef4a-696f-4661-b128-e45f0eac69f0",
   "metadata": {},
   "outputs": [],
   "source": [
    "# sum rows (men)\n",
    "\n",
    "DE1002V_2022 <- df_DE1 %>%\n",
    "                   filter(Kjonn == 1) %>%\n",
    "                   group_by(code) %>%\n",
    "                   summarise(Value = sum(value))"
   ]
  },
  {
   "cell_type": "code",
   "execution_count": null,
   "id": "5b06ecb5-9265-41f3-9edc-2bb53f354afb",
   "metadata": {},
   "outputs": [],
   "source": [
    "DE1002V_2022"
   ]
  },
  {
   "cell_type": "code",
   "execution_count": null,
   "id": "5a00c451-b226-4e3b-9aa7-298d6c7743d0",
   "metadata": {},
   "outputs": [],
   "source": [
    "# sum rows (women)\n",
    "\n",
    "DE1003V_2022 <- df_DE1 %>%\n",
    "                   filter(Kjonn == 2) %>%\n",
    "                   group_by(code) %>%\n",
    "                   summarise(Value = sum(value))"
   ]
  },
  {
   "cell_type": "code",
   "execution_count": null,
   "id": "f995d387-c51e-49e9-b1bb-c138b5289cfc",
   "metadata": {},
   "outputs": [],
   "source": [
    "DE1003V_2022"
   ]
  },
  {
   "cell_type": "code",
   "execution_count": null,
   "id": "5619071c-a604-429c-b647-b7f187312255",
   "metadata": {},
   "outputs": [],
   "source": [
    "# Loop: for each age group level, produce three tables (all, men, women). "
   ]
  },
  {
   "cell_type": "code",
   "execution_count": null,
   "id": "0fdb1761-222a-4268-b7df-84e12ee8d045",
   "metadata": {},
   "outputs": [],
   "source": []
  }
 ],
 "metadata": {
  "language_info": {
   "codemirror_mode": "r",
   "file_extension": ".r",
   "mimetype": "text/x-r-source",
   "name": "R"
  }
 },
 "nbformat": 4,
 "nbformat_minor": 5
}
