{
 "cells": [
  {
   "cell_type": "markdown",
   "id": "3e13a396-3d6e-422a-9123-8d6c2c9720d3",
   "metadata": {},
   "source": [
    "## Notebook for Production of DE1 tables"
   ]
  },
  {
   "cell_type": "markdown",
   "id": "39e51e99-a275-4bdf-aedb-a1b4c004469d",
   "metadata": {},
   "source": [
    "#### Import packages & functions"
   ]
  },
  {
   "cell_type": "code",
   "execution_count": null,
   "id": "8f787e4f-a7b2-4b2c-b255-f94d6c530654",
   "metadata": {
    "tags": []
   },
   "outputs": [],
   "source": [
    "library(haven)\n",
    "library(PxWebApiData)\n",
    "suppressPackageStartupMessages(library(tidyverse))\n",
    "library(klassR)\n",
    "\n",
    "library(httr)\n",
    "library(jsonlite)\n",
    "\n",
    "library(glue)"
   ]
  },
  {
   "cell_type": "code",
   "execution_count": null,
   "id": "756a5805-f96c-43e6-b660-a9315ada92a0",
   "metadata": {},
   "outputs": [],
   "source": [
    "source(\"Functions.r\")"
   ]
  },
  {
   "cell_type": "markdown",
   "id": "ab6d8929-002d-42af-9966-70f5db3341b5",
   "metadata": {},
   "source": [
    "#### Statbank data import"
   ]
  },
  {
   "cell_type": "code",
   "execution_count": null,
   "id": "50af169f-7b3c-4e3a-b6d8-b4c74d7177b3",
   "metadata": {},
   "outputs": [],
   "source": [
    "# import data\n",
    "\n",
    "df_DE1 <- ApiData(07459,\n",
    "              Alder = list(\"agg:FemAarigGruppering\",\n",
    "                           c(\"F00-04\", \"F05-09\", \"F10-14\",\n",
    "                             \"F15-19\", \"F20-24\", \"F25-29\",\n",
    "                             \"F30-34\", \"F35-39\", \"F40-44\",\n",
    "                             \"F45-49\", \"F50-54\", \"F55-59\",\n",
    "                             \"F60-64\", \"F65-69\", \"F70-74\",\n",
    "                             \"F75-79\", \"F80-84\", \"F85-89\",\n",
    "                             \"F90-94\", \"F95-99\", \"F100G5+\")),\n",
    "              Region = c(\"0301\", \"1103\", \"4601\", \"5001\", \"3005\"),\n",
    "              Tid = \"2022\")[[2]]"
   ]
  },
  {
   "cell_type": "code",
   "execution_count": null,
   "id": "fa55964a-7e30-4426-84bf-8782d1020c95",
   "metadata": {
    "tags": []
   },
   "outputs": [],
   "source": [
    "# import data for median\n",
    "\n",
    "df_DE1073V <- ApiData(13536,\n",
    "                      Region = list(\"vs:Kommune\",\n",
    "                                    c(\"3005\", \"0301\", \"1103\", \"4601\", \"5001\")),\n",
    "                      ContentsCode = \"Medianalder\",\n",
    "                      Tid = \"2022\")[[2]]"
   ]
  },
  {
   "cell_type": "markdown",
   "id": "8da29e62-59ef-4426-984d-c16a7e5bec59",
   "metadata": {},
   "source": [
    "#### Data processing\n",
    "1. Add a column with municipality names onto the dataframe based on region code (klass = 131)\n",
    "2. Load a correspondence table between city name and city code\n",
    "3. Merge the dataframe and city correspondence "
   ]
  },
  {
   "cell_type": "code",
   "execution_count": null,
   "id": "54c8a599-cc6e-44f0-89a0-8b143c5f2460",
   "metadata": {
    "tags": []
   },
   "outputs": [],
   "source": [
    "# import klass correspondence for city names\n",
    "\n",
    "df_DE1$name <- ApplyKlass(df_DE1$Region, klass = 131)\n",
    "df_DE1073V$name <- ApplyKlass(df_DE1073V$Region, klass = 131)\n",
    "\n",
    "city_correspondence <- GetKlass(550) %>%\n",
    "                    select(code, name)"
   ]
  },
  {
   "cell_type": "code",
   "execution_count": null,
   "id": "5825b6bb-3c25-4697-b426-b4d81c87b1c9",
   "metadata": {},
   "outputs": [],
   "source": [
    "# merge klass correspondence with dataframe\n",
    "\n",
    "df_DE1 <- merge.data.frame(df_DE1, city_correspondence,\n",
    "                           by = \"name\")\n",
    "\n",
    "df_DE1073V <- merge.data.frame(df_DE1073V, city_correspondence,\n",
    "                               by = \"name\")"
   ]
  },
  {
   "cell_type": "markdown",
   "id": "01d00205-3d91-4cdc-a4f1-dd591c3a12ec",
   "metadata": {},
   "source": [
    "#### Summary tables"
   ]
  },
  {
   "cell_type": "code",
   "execution_count": null,
   "id": "de13e62c-4aca-469b-b281-4d45a473f990",
   "metadata": {},
   "outputs": [],
   "source": [
    "# DE1001V - DE1003V\n",
    "\n",
    "DE1001V_2022 <- df_DE1 %>%\n",
    "                   group_by(code) %>%\n",
    "                   summarise(Value = sum(value))\n",
    "\n",
    "DE1002V_2022 <- sum_rows(Kjonn, \"1\")\n",
    "\n",
    "DE1003V_2022 <- sum_rows(Kjonn, \"2\")"
   ]
  },
  {
   "cell_type": "code",
   "execution_count": null,
   "id": "fdd7c09d-8819-449f-bd2a-43e147c92141",
   "metadata": {
    "tags": []
   },
   "outputs": [],
   "source": [
    "# DE1073V\n",
    "\n",
    "DE10073_2022 <- df_DE1073V %>%\n",
    "                    select(code, value) %>%\n",
    "                    rename(Value = value)"
   ]
  },
  {
   "cell_type": "code",
   "execution_count": null,
   "id": "96cc00ab-92d8-4ec2-9359-bc102f4d383e",
   "metadata": {},
   "outputs": [],
   "source": [
    "# DE1137V - DE1139V\n",
    "\n",
    "DE1137V_2022 <- df_DE1 %>%\n",
    "                    filter(Alder %in% c(\"F85-89\",\n",
    "                                        \"F90-94\",\n",
    "                                        \"F95-99\",\n",
    "                                        \"F100G5+\")) %>%\n",
    "                    group_by(code) %>%\n",
    "                    summarise(Value = sum(value))\n",
    "\n",
    "DE1137V_2022 <- df_DE1 %>%\n",
    "                    filter(Alder %in% c(\"F85-89\",\n",
    "                                        \"F90-94\",\n",
    "                                        \"F95-99\",\n",
    "                                        \"F100G5+\")) %>%\n",
    "                    group_by(code) %>%\n",
    "                    summarise(Value = sum(value))"
   ]
  },
  {
   "cell_type": "code",
   "execution_count": null,
   "id": "b20c7d75-20fe-463f-af48-c29819a3681f",
   "metadata": {},
   "outputs": [],
   "source": [
    "DE1137V_2022"
   ]
  },
  {
   "cell_type": "code",
   "execution_count": null,
   "id": "e5454f27-c6d3-45e5-805f-4bfa25a5fe94",
   "metadata": {},
   "outputs": [],
   "source": [
    "var_list <- list(\"DE1040V\", \"DE1041V\", \"DE1042V\", # 0-4 years\n",
    "                      \"DE1046V\", \"DE1047V\", \"DE1048V\", # 15-19 years\n",
    "                      \"DE1049V\", \"DE1050V\", \"DE1051V\", # 20-24 years\n",
    "                      \"DE1074V\", \"DE1075V\", \"DE1076V\", # 5-9 years\n",
    "                      \"DE1077V\", \"DE1078V\", \"DE1079V\", # 10-14 years\n",
    "                      \"DE1101V\", \"DE1102V\", \"DE1103V\", # 25-29 years\n",
    "                      \"DE1104V\", \"DE1105V\", \"DE1106V\", # 30-34 years\n",
    "                      \"DE1107V\", \"DE1108V\", \"DE1109V\", # 35-39 years\n",
    "                      \"DE1110V\", \"DE1111V\", \"DE1112V\", # 40-44 years\n",
    "                      \"DE1113V\", \"DE1114V\", \"DE1115V\", # 45-49 years\n",
    "                      \"DE1116V\", \"DE1117V\", \"DE1118V\", # 50-54 years\n",
    "                      \"DE1119V\", \"DE1120V\", \"DE1121V\", # 55-59 years\n",
    "                      \"DE1122V\", \"DE1123V\", \"DE1124V\", # 60-64 years\n",
    "                      \"DE1125V\", \"DE1126V\", \"DE1127V\", # 65-69 years\n",
    "                      \"DE1128V\", \"DE1129V\", \"DE1130V\", # 70-74 years\n",
    "                      \"DE1131V\", \"DE1132V\", \"DE1133V\", # 75-79 years\n",
    "                      \"DE1134V\", \"DE1135V\", \"DE1136V\") # 80-84 years"
   ]
  },
  {
   "cell_type": "code",
   "execution_count": null,
   "id": "f454fc88-cdcc-4a29-b4ad-b8525b85f480",
   "metadata": {},
   "outputs": [],
   "source": [
    "var_age <- list(\"F00-04\", \"F00-04\", \"F00-04\",\n",
    "                     \"F15-19\", \"F15-19\", \"F15-19\",\n",
    "                     \"F20-24\", \"F20-24\", \"F20-24\",\n",
    "                     \"F05-09\", \"F05-09\", \"F05-09\",\n",
    "                     \"F10-14\", \"F10-14\", \"F10-14\",\n",
    "                     \"F25-29\", \"F25-29\", \"F25-29\",\n",
    "                     \"F30-34\", \"F30-34\", \"F30-34\",\n",
    "                     \"F35-39\", \"F35-39\", \"F35-39\",\n",
    "                     \"F40-44\", \"F40-44\", \"F40-44\",\n",
    "                     \"F45-49\", \"F45-49\", \"F45-49\",\n",
    "                     \"F50-54\", \"F50-54\", \"F50-54\",\n",
    "                     \"F55-59\", \"F55-59\", \"F55-59\",\n",
    "                     \"F60-64\", \"F60-64\", \"F60-64\",\n",
    "                     \"F65-69\", \"F65-69\", \"F65-69\",\n",
    "                     \"F70-74\", \"F70-74\", \"F70-74\",\n",
    "                     \"F75-79\", \"F75-79\", \"F75-79\",\n",
    "                     \"F80-84\", \"F80-84\", \"F80-84\")"
   ]
  },
  {
   "cell_type": "code",
   "execution_count": null,
   "id": "030d858c-d27e-41e5-aa13-b418b828de45",
   "metadata": {},
   "outputs": [],
   "source": [
    "var_gender <- list(\"total\", \"1\", \"2\",\n",
    "                   \"total\", \"1\", \"2\",\n",
    "                   \"total\", \"1\", \"2\",\n",
    "                   \"total\", \"1\", \"2\",\n",
    "                   \"total\", \"1\", \"2\",\n",
    "                   \"total\", \"1\", \"2\",\n",
    "                   \"total\", \"1\", \"2\",\n",
    "                   \"total\", \"1\", \"2\",\n",
    "                   \"total\", \"1\", \"2\",\n",
    "                   \"total\", \"1\", \"2\",\n",
    "                   \"total\", \"1\", \"2\",\n",
    "                   \"total\", \"1\", \"2\",\n",
    "                   \"total\", \"1\", \"2\",\n",
    "                   \"total\", \"1\", \"2\",\n",
    "                   \"total\", \"1\", \"2\",\n",
    "                   \"total\", \"1\", \"2\",\n",
    "                   \"total\", \"1\", \"2\")"
   ]
  },
  {
   "cell_type": "code",
   "execution_count": null,
   "id": "f8d270b4-d080-4f25-b48e-9a4d7ba09104",
   "metadata": {
    "tags": []
   },
   "outputs": [],
   "source": [
    "variable_correspondence <- data.frame(cbind(var_list, var_age, var_gender))\n",
    "\n",
    "# export this to outside notebook"
   ]
  },
  {
   "cell_type": "code",
   "execution_count": null,
   "id": "c7f63c6f-c92a-4658-b600-0855c35ccefe",
   "metadata": {
    "tags": []
   },
   "outputs": [],
   "source": [
    "variable_correspondence"
   ]
  },
  {
   "cell_type": "code",
   "execution_count": null,
   "id": "e0fc905f-70cd-46fe-9ef0-a827c50b7379",
   "metadata": {},
   "outputs": [],
   "source": [
    "for (i in seq(1, nrow(variable_correspondence), 3)) {\n",
    "    assign(\n",
    "        paste(as.character(variable_correspondence$var_list[i]),\n",
    "              \"2022\",\n",
    "              sep = \"_\"),\n",
    "        sum_rows(Alder, as.character(variable_correspondence$var_age[i])))\n",
    "}"
   ]
  },
  {
   "cell_type": "code",
   "execution_count": null,
   "id": "7bab5b25-ffea-496a-9a41-605882f86bfa",
   "metadata": {},
   "outputs": [],
   "source": [
    "table_formatting(DE1077V_2022)"
   ]
  },
  {
   "cell_type": "markdown",
   "id": "98e091e7-ca47-4dfe-addd-9e3ed4f84277",
   "metadata": {},
   "source": [
    "#### Gender separated tables\n",
    "Note, for the gender seperated tables we do not have to sum over rows, but simply filter at the age group and gender. This is done using the function: filter_rows, and specifying age_group as the first variable and the gender code as the second."
   ]
  },
  {
   "cell_type": "code",
   "execution_count": null,
   "id": "47cb7f58-d457-4f63-9e57-0020106fa96c",
   "metadata": {},
   "outputs": [],
   "source": [
    "index <- setdiff(1:nrow(variable_correspondence),\n",
    "                 seq(1, nrow(variable_correspondence), 3))"
   ]
  },
  {
   "cell_type": "code",
   "execution_count": null,
   "id": "eb30a558-d710-4daa-8e27-fd4b95688187",
   "metadata": {},
   "outputs": [],
   "source": [
    "for (i in index) {\n",
    "    assign(\n",
    "        paste(as.character(variable_correspondence$var_list[i]),\n",
    "              \"2022\",\n",
    "              sep = \"_\"),\n",
    "        filter_rows(as.character(variable_correspondence$var_age[i]),\n",
    "                    as.character(variable_correspondence$var_gender[i])))\n",
    "}"
   ]
  },
  {
   "cell_type": "markdown",
   "id": "449649ba-f74b-4dd8-a4d9-0d955f486ad5",
   "metadata": {},
   "source": [
    "## Table formatting"
   ]
  },
  {
   "cell_type": "code",
   "execution_count": null,
   "id": "ca1e3a3a-cfd2-4a70-9fdd-e49ab88ab192",
   "metadata": {},
   "outputs": [],
   "source": [
    "table_formatting(DE1001V_2022)"
   ]
  }
 ],
 "metadata": {
  "language_info": {
   "codemirror_mode": "r",
   "file_extension": ".r",
   "mimetype": "text/x-r-source",
   "name": "R"
  }
 },
 "nbformat": 4,
 "nbformat_minor": 5
}
