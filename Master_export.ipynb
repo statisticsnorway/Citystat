{
 "cells": [
  {
   "cell_type": "code",
   "execution_count": null,
   "id": "7b84db60-5415-4e23-a601-35128912bf0b",
   "metadata": {},
   "outputs": [],
   "source": [
    "suppressPackageStartupMessages(library(tidyverse))"
   ]
  },
  {
   "cell_type": "code",
   "execution_count": null,
   "id": "3d0f19d8-e13e-4d4a-ad96-a7116b7e407d",
   "metadata": {},
   "outputs": [],
   "source": [
    "# imports\n",
    "\n",
    "csv_files <- list.files(path = \"/ssb/stamme01/bediv/project/CITYSTATISTICS/\", pattern = \"*.csv\")\n",
    "csv_files"
   ]
  },
  {
   "cell_type": "code",
   "execution_count": null,
   "id": "d10ad380-a6f3-4f98-9b5d-6f7dbf7152ee",
   "metadata": {
    "jupyter": {
     "outputs_hidden": true
    },
    "tags": []
   },
   "outputs": [],
   "source": [
    "Grants_table <- list()\n",
    "\n",
    "for (i in csv_files) {\n",
    "    x <- read_csv(paste(\"/ssb/stamme01/bediv/project/CITYSTATISTICS/\", i, sep = \"\"), show_col_types = FALSE)\n",
    "    Grants_table[[i]] <- x\n",
    "    }\n",
    "\n",
    "Grants_table"
   ]
  },
  {
   "cell_type": "code",
   "execution_count": null,
   "id": "2f69bf9c-6430-4300-9a58-4e622d9deb48",
   "metadata": {
    "jupyter": {
     "outputs_hidden": true
    },
    "tags": []
   },
   "outputs": [],
   "source": [
    "Grants_export <- do.call(\"rbind\", Grants_table)\n",
    "Grants_export"
   ]
  }
 ],
 "metadata": {
  "language_info": {
   "codemirror_mode": "r",
   "file_extension": ".r",
   "mimetype": "text/x-r-source",
   "name": "R"
  }
 },
 "nbformat": 4,
 "nbformat_minor": 5
}
