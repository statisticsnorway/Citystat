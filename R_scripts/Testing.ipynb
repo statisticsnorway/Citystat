{
 "cells": [
  {
   "cell_type": "code",
   "execution_count": null,
   "id": "807e07f6-ea3b-47e6-a3d0-da64c7cd4e63",
   "metadata": {},
   "outputs": [],
   "source": [
    "df_EC2034V <- ApiData(08536,\n",
    "                      ContentsCode = \"SysselBosted\",\n",
    "                      Region = c('0301', '5001', '1103', '4601'),\n",
    "                      NACE2007 = \"66\",\n",
    "                      Kjonn = \"0\",\n",
    "                      Tid = \"2021\")[[2]]\n",
    "df_EC2034V"
   ]
  },
  {
   "cell_type": "code",
   "execution_count": null,
   "id": "9318aab0-d7e1-429e-b71c-d614e4130856",
   "metadata": {},
   "outputs": [],
   "source": [
    "# create table\n",
    "\n",
    "EC2034V <- df_EC2034V %>%\n",
    "                rename(Value = value)\n",
    "\n",
    "# apply klass and merge with correspondence\n",
    "\n",
    "EC2034V$navn <- ApplyKlass(EC2034V$Region, klass = 131)\n",
    "\n",
    "EC2034V_2021 <-  merge.data.frame(EC2034V,\n",
    "                                  city_correspondence,\n",
    "                                  by.x = \"navn\",\n",
    "                                  by.y = \"name\")\n",
    "\n",
    "# table formatting\n",
    "\n",
    "EC2034V_2021 <- table_formatting(\"EC2034V_2021\")"
   ]
  },
  {
   "cell_type": "code",
   "execution_count": null,
   "id": "e13dad2d-79ce-469b-ae78-1c8ef585bdb9",
   "metadata": {},
   "outputs": [],
   "source": [
    "EC2034V_2021"
   ]
  },
  {
   "cell_type": "code",
   "execution_count": null,
   "id": "334f8328-066b-492d-907c-b72af23e5752",
   "metadata": {},
   "outputs": [],
   "source": []
  }
 ],
 "metadata": {
  "language_info": {
   "codemirror_mode": "r",
   "file_extension": ".r",
   "mimetype": "text/x-r-source",
   "name": "R"
  }
 },
 "nbformat": 4,
 "nbformat_minor": 5
}
