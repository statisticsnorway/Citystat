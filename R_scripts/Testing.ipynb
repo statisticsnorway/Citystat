{
 "cells": [
  {
   "cell_type": "code",
   "execution_count": 39,
   "id": "807e07f6-ea3b-47e6-a3d0-da64c7cd4e63",
   "metadata": {},
   "outputs": [
    {
     "data": {
      "text/html": [
       "<table class=\"dataframe\">\n",
       "<caption>A data.frame: 4 × 6</caption>\n",
       "<thead>\n",
       "\t<tr><th scope=col>Region</th><th scope=col>Kjonn</th><th scope=col>NACE2007</th><th scope=col>ContentsCode</th><th scope=col>Tid</th><th scope=col>value</th></tr>\n",
       "\t<tr><th scope=col>&lt;chr&gt;</th><th scope=col>&lt;chr&gt;</th><th scope=col>&lt;chr&gt;</th><th scope=col>&lt;chr&gt;</th><th scope=col>&lt;chr&gt;</th><th scope=col>&lt;int&gt;</th></tr>\n",
       "</thead>\n",
       "<tbody>\n",
       "\t<tr><td>0301</td><td>0</td><td>66</td><td>SysselBosted</td><td>2021</td><td>3575</td></tr>\n",
       "\t<tr><td>1103</td><td>0</td><td>66</td><td>SysselBosted</td><td>2021</td><td> 262</td></tr>\n",
       "\t<tr><td>4601</td><td>0</td><td>66</td><td>SysselBosted</td><td>2021</td><td> 518</td></tr>\n",
       "\t<tr><td>5001</td><td>0</td><td>66</td><td>SysselBosted</td><td>2021</td><td> 301</td></tr>\n",
       "</tbody>\n",
       "</table>\n"
      ],
      "text/latex": [
       "A data.frame: 4 × 6\n",
       "\\begin{tabular}{llllll}\n",
       " Region & Kjonn & NACE2007 & ContentsCode & Tid & value\\\\\n",
       " <chr> & <chr> & <chr> & <chr> & <chr> & <int>\\\\\n",
       "\\hline\n",
       "\t 0301 & 0 & 66 & SysselBosted & 2021 & 3575\\\\\n",
       "\t 1103 & 0 & 66 & SysselBosted & 2021 &  262\\\\\n",
       "\t 4601 & 0 & 66 & SysselBosted & 2021 &  518\\\\\n",
       "\t 5001 & 0 & 66 & SysselBosted & 2021 &  301\\\\\n",
       "\\end{tabular}\n"
      ],
      "text/markdown": [
       "\n",
       "A data.frame: 4 × 6\n",
       "\n",
       "| Region &lt;chr&gt; | Kjonn &lt;chr&gt; | NACE2007 &lt;chr&gt; | ContentsCode &lt;chr&gt; | Tid &lt;chr&gt; | value &lt;int&gt; |\n",
       "|---|---|---|---|---|---|\n",
       "| 0301 | 0 | 66 | SysselBosted | 2021 | 3575 |\n",
       "| 1103 | 0 | 66 | SysselBosted | 2021 |  262 |\n",
       "| 4601 | 0 | 66 | SysselBosted | 2021 |  518 |\n",
       "| 5001 | 0 | 66 | SysselBosted | 2021 |  301 |\n",
       "\n"
      ],
      "text/plain": [
       "  Region Kjonn NACE2007 ContentsCode Tid  value\n",
       "1 0301   0     66       SysselBosted 2021 3575 \n",
       "2 1103   0     66       SysselBosted 2021  262 \n",
       "3 4601   0     66       SysselBosted 2021  518 \n",
       "4 5001   0     66       SysselBosted 2021  301 "
      ]
     },
     "metadata": {},
     "output_type": "display_data"
    }
   ],
   "source": [
    "df_EC2034V <- ApiData(08536,\n",
    "                      ContentsCode = \"SysselBosted\",\n",
    "                      Region = c('0301', '5001', '1103', '4601'),\n",
    "                      NACE2007 = \"66\",\n",
    "                      Kjonn = \"0\",\n",
    "                      Tid = \"2021\")[[2]]\n",
    "df_EC2034V"
   ]
  },
  {
   "cell_type": "code",
   "execution_count": 37,
   "id": "9318aab0-d7e1-429e-b71c-d614e4130856",
   "metadata": {},
   "outputs": [],
   "source": [
    "# create table\n",
    "\n",
    "EC2034V <- df_EC2034V %>%\n",
    "                rename(Value = value)\n",
    "\n",
    "# apply klass and merge with correspondence\n",
    "\n",
    "EC2034V$navn <- ApplyKlass(EC2034V$Region, klass = 131)\n",
    "\n",
    "EC2034V_2021 <-  merge.data.frame(EC2034V,\n",
    "                                  city_correspondence,\n",
    "                                  by.x = \"navn\",\n",
    "                                  by.y = \"name\")\n",
    "\n",
    "# table formatting\n",
    "\n",
    "EC2034V_2021 <- table_formatting(\"EC2034V_2021\")"
   ]
  },
  {
   "cell_type": "code",
   "execution_count": 38,
   "id": "e13dad2d-79ce-469b-ae78-1c8ef585bdb9",
   "metadata": {},
   "outputs": [
    {
     "data": {
      "text/html": [
       "<table class=\"dataframe\">\n",
       "<caption>A data.frame: 4 × 6</caption>\n",
       "<thead>\n",
       "\t<tr><th scope=col>City_code</th><th scope=col>Variable_code</th><th scope=col>Reference_year</th><th scope=col>Value</th><th scope=col>Flags</th><th scope=col>Footnote</th></tr>\n",
       "\t<tr><th scope=col>&lt;chr&gt;</th><th scope=col>&lt;chr&gt;</th><th scope=col>&lt;chr&gt;</th><th scope=col>&lt;int&gt;</th><th scope=col>&lt;chr&gt;</th><th scope=col>&lt;chr&gt;</th></tr>\n",
       "</thead>\n",
       "<tbody>\n",
       "\t<tr><td>NO001C</td><td>EC2034V</td><td>2021</td><td>3575</td><td></td><td></td></tr>\n",
       "\t<tr><td>NO002C</td><td>EC2034V</td><td>2021</td><td> 262</td><td></td><td></td></tr>\n",
       "\t<tr><td>NO003C</td><td>EC2034V</td><td>2021</td><td> 518</td><td></td><td></td></tr>\n",
       "\t<tr><td>NO004C</td><td>EC2034V</td><td>2021</td><td> 301</td><td></td><td></td></tr>\n",
       "</tbody>\n",
       "</table>\n"
      ],
      "text/latex": [
       "A data.frame: 4 × 6\n",
       "\\begin{tabular}{llllll}\n",
       " City\\_code & Variable\\_code & Reference\\_year & Value & Flags & Footnote\\\\\n",
       " <chr> & <chr> & <chr> & <int> & <chr> & <chr>\\\\\n",
       "\\hline\n",
       "\t NO001C & EC2034V & 2021 & 3575 &  & \\\\\n",
       "\t NO002C & EC2034V & 2021 &  262 &  & \\\\\n",
       "\t NO003C & EC2034V & 2021 &  518 &  & \\\\\n",
       "\t NO004C & EC2034V & 2021 &  301 &  & \\\\\n",
       "\\end{tabular}\n"
      ],
      "text/markdown": [
       "\n",
       "A data.frame: 4 × 6\n",
       "\n",
       "| City_code &lt;chr&gt; | Variable_code &lt;chr&gt; | Reference_year &lt;chr&gt; | Value &lt;int&gt; | Flags &lt;chr&gt; | Footnote &lt;chr&gt; |\n",
       "|---|---|---|---|---|---|\n",
       "| NO001C | EC2034V | 2021 | 3575 | <!----> | <!----> |\n",
       "| NO002C | EC2034V | 2021 |  262 | <!----> | <!----> |\n",
       "| NO003C | EC2034V | 2021 |  518 | <!----> | <!----> |\n",
       "| NO004C | EC2034V | 2021 |  301 | <!----> | <!----> |\n",
       "\n"
      ],
      "text/plain": [
       "  City_code Variable_code Reference_year Value Flags Footnote\n",
       "1 NO001C    EC2034V       2021           3575                \n",
       "2 NO002C    EC2034V       2021            262                \n",
       "3 NO003C    EC2034V       2021            518                \n",
       "4 NO004C    EC2034V       2021            301                "
      ]
     },
     "metadata": {},
     "output_type": "display_data"
    }
   ],
   "source": [
    "EC2034V_2021"
   ]
  },
  {
   "cell_type": "code",
   "execution_count": null,
   "id": "334f8328-066b-492d-907c-b72af23e5752",
   "metadata": {},
   "outputs": [],
   "source": []
  }
 ],
 "metadata": {
  "kernelspec": {
   "display_name": "R",
   "language": "R",
   "name": "ir"
  },
  "language_info": {
   "codemirror_mode": "r",
   "file_extension": ".r",
   "mimetype": "text/x-r-source",
   "name": "R",
   "pygments_lexer": "r",
   "version": "4.2.2"
  }
 },
 "nbformat": 4,
 "nbformat_minor": 5
}
